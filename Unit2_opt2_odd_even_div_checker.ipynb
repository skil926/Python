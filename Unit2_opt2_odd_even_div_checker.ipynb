{
  "cells": [
    {
      "cell_type": "markdown",
      "metadata": {
        "id": "view-in-github",
        "colab_type": "text"
      },
      "source": [
        "<a href=\"https://colab.research.google.com/github/skil926/Python/blob/main/Unit2_opt2_odd_even_div_checker.ipynb\" target=\"_parent\"><img src=\"https://colab.research.google.com/assets/colab-badge.svg\" alt=\"Open In Colab\"/></a>"
      ]
    },
    {
      "cell_type": "code",
      "execution_count": null,
      "metadata": {
        "id": "7SDM4uZvVsiR"
      },
      "outputs": [],
      "source": [
        "# odd vs even and divisible by 4\n",
        "\n",
        "print(\"Enter any number to test if it is odd or even\")\n",
        "\n",
        "num = int(input(\"Enter a number: \"))\n",
        "while num > 0:\n",
        "    if ((num % 2) == 0 and (num % 4)==0):\n",
        "        print(\"{0} is Even and divisible by 4\".format(num))\n",
        "    elif ((num % 2) == 0 and (num % 4)>0):\n",
        "        print(\"{0} is Even\".format(num))\n",
        "    else:\n",
        "        print(\"{0} is Odd\".format(num))\n",
        "       \n",
        "    num = int(input(\"Enter a number: \"))"
      ]
    },
    {
      "cell_type": "code",
      "source": [
        "#Divisibility Checker\n",
        "\n",
        "print(\"Divisibility Checker\")\n",
        "\n",
        "num = int(input(\"Enter a number to check: \"))\n",
        "check = int(input(\"Enter a number to divide by: \"))\n",
        "\n",
        "while num > 0 and check < num:\n",
        "    if (num % check) == 0:\n",
        "        print(\"\\nDivisible. \\n\\tAnswer is \",int(num/check))\n",
        "    else:\n",
        "        print(\"\\nNot Divisible\")\n",
        "       \n",
        "    num = int(input(\"\\nEnter a number to check: \"))\n",
        "    check = int(input(\"Enter a number to divide by: \"))"
      ],
      "metadata": {
        "colab": {
          "base_uri": "https://localhost:8080/"
        },
        "id": "p_GSbqw0V0sU",
        "outputId": "ea42ee2b-1e50-4f29-8555-9302b12f072f"
      },
      "execution_count": null,
      "outputs": [
        {
          "output_type": "stream",
          "name": "stdout",
          "text": [
            "Divisibility Checker\n"
          ]
        }
      ]
    }
  ],
  "metadata": {
    "kernelspec": {
      "display_name": "Python 3",
      "language": "python",
      "name": "python3"
    },
    "language_info": {
      "codemirror_mode": {
        "name": "ipython",
        "version": 3
      },
      "file_extension": ".py",
      "mimetype": "text/x-python",
      "name": "python",
      "nbconvert_exporter": "python",
      "pygments_lexer": "ipython3",
      "version": "3.8.5"
    },
    "colab": {
      "provenance": [],
      "include_colab_link": true
    }
  },
  "nbformat": 4,
  "nbformat_minor": 0
}